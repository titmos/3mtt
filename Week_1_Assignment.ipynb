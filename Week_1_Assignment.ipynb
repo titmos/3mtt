{
 "cells": [
  {
   "cell_type": "code",
   "execution_count": 3,
   "id": "cb343dfe-d4d0-43a8-a546-3f3afab4cfac",
   "metadata": {},
   "outputs": [
    {
     "name": "stdin",
     "output_type": "stream",
     "text": [
      "Please input the first number:  12\n",
      "Please input the other number:  55\n"
     ]
    },
    {
     "name": "stdout",
     "output_type": "stream",
     "text": [
      "The sum of the two numbers are:  67\n",
      "The Average of the numbers is:  33.5\n",
      "The maximum of the numbers is:  55\n",
      "The minimum of the numbers is:  12\n"
     ]
    }
   ],
   "source": [
    "#Write a Python script to calculate basic statistics #(e.g., sum, average, min, max).\n",
    "#Perfroming the basic statistic on two numbers\n",
    "import pandas as pd\n",
    "a = input('Please input the first number: ')\n",
    "a = int(a) \n",
    "b = input('Please input the other number: ')\n",
    "b = int(b)\n",
    "\n",
    "print('The sum of the two numbers are: ', a + b)\n",
    "average = (a + b)/2\n",
    "print(\"The Average of the numbers is: \", average)\n",
    "maxi = max(a, b)\n",
    "print(\"The maximum of the numbers is: \", maxi)\n",
    "minim = min(a, b)\n",
    "print(\"The minimum of the numbers is: \", minim)"
   ]
  },
  {
   "cell_type": "code",
   "execution_count": 9,
   "id": "0ab99471-202d-4612-837c-895eaff208e2",
   "metadata": {},
   "outputs": [
    {
     "name": "stdin",
     "output_type": "stream",
     "text": [
      "Enter numbers separated by commas, finish by pressing return key 12,13,45,34,66,77,98\n"
     ]
    },
    {
     "name": "stdout",
     "output_type": "stream",
     "text": [
      "The sum is  345\n",
      "The average is  49.285714285714285\n",
      "The least in the list is  12\n",
      "The highest in the list is  98\n"
     ]
    }
   ],
   "source": [
    "#Write a Python script to calculate basic statistics #(e.g., sum, average, min, max).\n",
    "#Perfroming the basic statistic on a list item\n",
    "li = [int(x) for x in input(\"Enter numbers separated by commas, finish by pressing return key\").split(',')]\n",
    "print('The sum is ', sum(li))\n",
    "print('The average is ', sum(li)/len(li))\n",
    "print('The least in the list is ', min(li))\n",
    "print('The highest in the list is ', max(li))"
   ]
  },
  {
   "cell_type": "code",
   "execution_count": 11,
   "id": "a6a564a6-06d9-4a29-bd12-33a8d7b78a42",
   "metadata": {},
   "outputs": [
    {
     "name": "stdin",
     "output_type": "stream",
     "text": [
      "Enter a number 12\n"
     ]
    },
    {
     "name": "stdout",
     "output_type": "stream",
     "text": [
      "The float conversion is:  12.0\n"
     ]
    }
   ],
   "source": [
    "#Write a Python script that converts an integer to a float.\n",
    "a = input(\"Enter a number\")\n",
    "a = int(a)\n",
    "print('The float conversion is: ', float(a))"
   ]
  },
  {
   "cell_type": "code",
   "execution_count": null,
   "id": "5127a902-954e-4cb9-a3df-3a4ba321bf7d",
   "metadata": {},
   "outputs": [],
   "source": []
  }
 ],
 "metadata": {
  "kernelspec": {
   "display_name": "Python 3 (ipykernel)",
   "language": "python",
   "name": "python3"
  },
  "language_info": {
   "codemirror_mode": {
    "name": "ipython",
    "version": 3
   },
   "file_extension": ".py",
   "mimetype": "text/x-python",
   "name": "python",
   "nbconvert_exporter": "python",
   "pygments_lexer": "ipython3",
   "version": "3.11.8"
  }
 },
 "nbformat": 4,
 "nbformat_minor": 5
}
