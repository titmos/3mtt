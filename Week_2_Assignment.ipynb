{
 "cells": [
  {
   "cell_type": "markdown",
   "id": "1a8ff492",
   "metadata": {},
   "source": [
    "Create a DataFrame from a Python dictionary using the pandas library by following these steps:\n",
    "\n",
    "1. Import the pandas library.\n",
    "2. Create a dictionary of Name ; Age ; Country\n",
    "3. Convert the dictionary into a pandas DataFrame.\n",
    "4. Display the DataFrame to view its contents."
   ]
  },
  {
   "cell_type": "code",
   "execution_count": 7,
   "id": "851195cc",
   "metadata": {},
   "outputs": [],
   "source": [
    "import pandas as pd\n",
    "new_dict = {'Name':['Ade','Ore','Ife','Olu','Ire','Ola'], 'Age':[15,23,20,18,19,24], 'Country':['India','US','UK','Canada','Nigeria','Ghana']}\n",
    "df = pd.DataFrame.from_dict(new_dict)"
   ]
  },
  {
   "cell_type": "code",
   "execution_count": 9,
   "id": "72b74959",
   "metadata": {},
   "outputs": [
    {
     "data": {
      "text/plain": [
       "{'Name': ['Ade', 'Ore', 'Ife', 'Olu', 'Ire', 'Ola'],\n",
       " 'Age': [15, 23, 20, 18, 19, 24],\n",
       " 'Country': ['India', 'US', 'UK', 'Canada', 'Nigeria', 'Ghana']}"
      ]
     },
     "execution_count": 9,
     "metadata": {},
     "output_type": "execute_result"
    }
   ],
   "source": [
    "new_dict"
   ]
  },
  {
   "cell_type": "code",
   "execution_count": 10,
   "id": "e41fcad9",
   "metadata": {},
   "outputs": [
    {
     "data": {
      "text/html": [
       "<div>\n",
       "<style scoped>\n",
       "    .dataframe tbody tr th:only-of-type {\n",
       "        vertical-align: middle;\n",
       "    }\n",
       "\n",
       "    .dataframe tbody tr th {\n",
       "        vertical-align: top;\n",
       "    }\n",
       "\n",
       "    .dataframe thead th {\n",
       "        text-align: right;\n",
       "    }\n",
       "</style>\n",
       "<table border=\"1\" class=\"dataframe\">\n",
       "  <thead>\n",
       "    <tr style=\"text-align: right;\">\n",
       "      <th></th>\n",
       "      <th>Name</th>\n",
       "      <th>Age</th>\n",
       "      <th>Country</th>\n",
       "    </tr>\n",
       "  </thead>\n",
       "  <tbody>\n",
       "    <tr>\n",
       "      <th>0</th>\n",
       "      <td>Ade</td>\n",
       "      <td>15</td>\n",
       "      <td>India</td>\n",
       "    </tr>\n",
       "    <tr>\n",
       "      <th>1</th>\n",
       "      <td>Ore</td>\n",
       "      <td>23</td>\n",
       "      <td>US</td>\n",
       "    </tr>\n",
       "    <tr>\n",
       "      <th>2</th>\n",
       "      <td>Ife</td>\n",
       "      <td>20</td>\n",
       "      <td>UK</td>\n",
       "    </tr>\n",
       "    <tr>\n",
       "      <th>3</th>\n",
       "      <td>Olu</td>\n",
       "      <td>18</td>\n",
       "      <td>Canada</td>\n",
       "    </tr>\n",
       "    <tr>\n",
       "      <th>4</th>\n",
       "      <td>Ire</td>\n",
       "      <td>19</td>\n",
       "      <td>Nigeria</td>\n",
       "    </tr>\n",
       "    <tr>\n",
       "      <th>5</th>\n",
       "      <td>Ola</td>\n",
       "      <td>24</td>\n",
       "      <td>Ghana</td>\n",
       "    </tr>\n",
       "  </tbody>\n",
       "</table>\n",
       "</div>"
      ],
      "text/plain": [
       "  Name  Age  Country\n",
       "0  Ade   15    India\n",
       "1  Ore   23       US\n",
       "2  Ife   20       UK\n",
       "3  Olu   18   Canada\n",
       "4  Ire   19  Nigeria\n",
       "5  Ola   24    Ghana"
      ]
     },
     "execution_count": 10,
     "metadata": {},
     "output_type": "execute_result"
    }
   ],
   "source": [
    "df"
   ]
  },
  {
   "cell_type": "code",
   "execution_count": null,
   "id": "ed8bef69",
   "metadata": {},
   "outputs": [],
   "source": []
  }
 ],
 "metadata": {
  "kernelspec": {
   "display_name": "Python 3 (ipykernel)",
   "language": "python",
   "name": "python3"
  },
  "language_info": {
   "codemirror_mode": {
    "name": "ipython",
    "version": 3
   },
   "file_extension": ".py",
   "mimetype": "text/x-python",
   "name": "python",
   "nbconvert_exporter": "python",
   "pygments_lexer": "ipython3",
   "version": "3.11.8"
  }
 },
 "nbformat": 4,
 "nbformat_minor": 5
}
